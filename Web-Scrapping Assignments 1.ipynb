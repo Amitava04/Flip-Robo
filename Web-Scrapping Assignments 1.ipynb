{
 "cells": [
  {
   "cell_type": "markdown",
   "metadata": {},
   "source": [
    "# 1. Write a python program to display all the header tags from ‘en.wikipedia.org/wiki/Main_Page’."
   ]
  },
  {
   "cell_type": "code",
   "execution_count": 2,
   "metadata": {
    "ExecuteTime": {
     "end_time": "2021-02-06T08:10:47.774227Z",
     "start_time": "2021-02-06T08:10:31.064732Z"
    }
   },
   "outputs": [],
   "source": [
    "from bs4 import BeautifulSoup \n",
    "import requests\n",
    "import pandas as pd"
   ]
  },
  {
   "cell_type": "code",
   "execution_count": 3,
   "metadata": {
    "ExecuteTime": {
     "end_time": "2021-02-06T08:10:49.772302Z",
     "start_time": "2021-02-06T08:10:49.768303Z"
    }
   },
   "outputs": [],
   "source": [
    "header_names=[]"
   ]
  },
  {
   "cell_type": "code",
   "execution_count": 4,
   "metadata": {
    "ExecuteTime": {
     "end_time": "2021-02-06T08:10:56.886850Z",
     "start_time": "2021-02-06T08:10:56.881848Z"
    }
   },
   "outputs": [],
   "source": [
    "def Header(url):\n",
    "    page=requests.get(url)\n",
    "    soup=BeautifulSoup(page.content,'html.parser')\n",
    "    header=soup.find_all('span',class_='mw-headline')\n",
    "    for i in header:\n",
    "        header_names.append(i.get_text().replace('\\n',''))"
   ]
  },
  {
   "cell_type": "code",
   "execution_count": 5,
   "metadata": {
    "ExecuteTime": {
     "end_time": "2021-02-06T08:10:59.178156Z",
     "start_time": "2021-02-06T08:10:58.400044Z"
    }
   },
   "outputs": [],
   "source": [
    "Header('https://en.wikipedia.org/wiki/Main_Page')"
   ]
  },
  {
   "cell_type": "code",
   "execution_count": 6,
   "metadata": {
    "ExecuteTime": {
     "end_time": "2021-02-06T08:10:59.659373Z",
     "start_time": "2021-02-06T08:10:59.638727Z"
    }
   },
   "outputs": [],
   "source": [
    "Header=pd.DataFrame({})\n",
    "Header['header_names']=header_names[0:8]"
   ]
  },
  {
   "cell_type": "code",
   "execution_count": 7,
   "metadata": {
    "ExecuteTime": {
     "end_time": "2021-02-06T08:11:01.107270Z",
     "start_time": "2021-02-06T08:11:01.037210Z"
    }
   },
   "outputs": [
    {
     "data": {
      "text/html": [
       "<div>\n",
       "<style scoped>\n",
       "    .dataframe tbody tr th:only-of-type {\n",
       "        vertical-align: middle;\n",
       "    }\n",
       "\n",
       "    .dataframe tbody tr th {\n",
       "        vertical-align: top;\n",
       "    }\n",
       "\n",
       "    .dataframe thead th {\n",
       "        text-align: right;\n",
       "    }\n",
       "</style>\n",
       "<table border=\"1\" class=\"dataframe\">\n",
       "  <thead>\n",
       "    <tr style=\"text-align: right;\">\n",
       "      <th></th>\n",
       "      <th>header_names</th>\n",
       "    </tr>\n",
       "  </thead>\n",
       "  <tbody>\n",
       "    <tr>\n",
       "      <th>0</th>\n",
       "      <td>From today's featured article</td>\n",
       "    </tr>\n",
       "    <tr>\n",
       "      <th>1</th>\n",
       "      <td>Did you know ...</td>\n",
       "    </tr>\n",
       "    <tr>\n",
       "      <th>2</th>\n",
       "      <td>In the news</td>\n",
       "    </tr>\n",
       "    <tr>\n",
       "      <th>3</th>\n",
       "      <td>On this day</td>\n",
       "    </tr>\n",
       "    <tr>\n",
       "      <th>4</th>\n",
       "      <td>Today's featured picture</td>\n",
       "    </tr>\n",
       "    <tr>\n",
       "      <th>5</th>\n",
       "      <td>Other areas of Wikipedia</td>\n",
       "    </tr>\n",
       "    <tr>\n",
       "      <th>6</th>\n",
       "      <td>Wikipedia's sister projects</td>\n",
       "    </tr>\n",
       "    <tr>\n",
       "      <th>7</th>\n",
       "      <td>Wikipedia languages</td>\n",
       "    </tr>\n",
       "  </tbody>\n",
       "</table>\n",
       "</div>"
      ],
      "text/plain": [
       "                    header_names\n",
       "0  From today's featured article\n",
       "1               Did you know ...\n",
       "2                    In the news\n",
       "3                    On this day\n",
       "4       Today's featured picture\n",
       "5       Other areas of Wikipedia\n",
       "6    Wikipedia's sister projects\n",
       "7            Wikipedia languages"
      ]
     },
     "execution_count": 7,
     "metadata": {},
     "output_type": "execute_result"
    }
   ],
   "source": [
    "Header"
   ]
  },
  {
   "cell_type": "markdown",
   "metadata": {},
   "source": [
    "# 2. Write a python program to display IMDB’s Top rated 100 movies’ data (i.e. Name, IMDB rating, Year of release) and save it in form of a CSV file. "
   ]
  },
  {
   "cell_type": "code",
   "execution_count": 8,
   "metadata": {
    "ExecuteTime": {
     "end_time": "2021-02-06T08:11:04.316078Z",
     "start_time": "2021-02-06T08:11:04.312076Z"
    }
   },
   "outputs": [],
   "source": [
    "Name=[]\n",
    "IMDB_rating=[]\n",
    "Year_of_release=[]"
   ]
  },
  {
   "cell_type": "code",
   "execution_count": 9,
   "metadata": {
    "ExecuteTime": {
     "end_time": "2021-02-06T08:11:05.482767Z",
     "start_time": "2021-02-06T08:11:05.474757Z"
    }
   },
   "outputs": [],
   "source": [
    "def Top_100_Movies(url):\n",
    "    response=requests.get(url)\n",
    "    soup=BeautifulSoup(response.content,'html.parser')\n",
    "    movie_name=soup.select('td.titleColumn a')\n",
    "    for i in movie_name:\n",
    "        Name.append(i.get_text())\n",
    "    movie_year=soup.find_all('span',class_='secondaryInfo')\n",
    "    for i in movie_year:\n",
    "        Year_of_release.append(i.get_text().replace('\\n','').replace('(','').replace(')',''))\n",
    "    rating=soup.find_all('td',class_='ratingColumn imdbRating')\n",
    "    for i in rating:\n",
    "        IMDB_rating.append(i.get_text().replace('\\n',''))\n",
    "    "
   ]
  },
  {
   "cell_type": "code",
   "execution_count": 10,
   "metadata": {
    "ExecuteTime": {
     "end_time": "2021-02-06T08:11:09.257084Z",
     "start_time": "2021-02-06T08:11:06.495371Z"
    }
   },
   "outputs": [],
   "source": [
    "Top_100_Movies('https://www.imdb.com/chart/top/?sort=ir,desc&mode=simple&page=1')"
   ]
  },
  {
   "cell_type": "code",
   "execution_count": 11,
   "metadata": {
    "ExecuteTime": {
     "end_time": "2021-02-06T08:11:09.871437Z",
     "start_time": "2021-02-06T08:11:09.855808Z"
    }
   },
   "outputs": [
    {
     "data": {
      "text/plain": [
       "['1994',\n",
       " '1972',\n",
       " '1974',\n",
       " '2008',\n",
       " '1957',\n",
       " '1993',\n",
       " '2003',\n",
       " '1994',\n",
       " '1966',\n",
       " '2001',\n",
       " '1999',\n",
       " '1994',\n",
       " '2010',\n",
       " '2002',\n",
       " '1980',\n",
       " '1999',\n",
       " '1990',\n",
       " '1975',\n",
       " '1954',\n",
       " '1995',\n",
       " '1997',\n",
       " '2002',\n",
       " '1991',\n",
       " '1946',\n",
       " '1977',\n",
       " '1998',\n",
       " '1999',\n",
       " '2001',\n",
       " '2014',\n",
       " '2019',\n",
       " '1994',\n",
       " '1962',\n",
       " '1995',\n",
       " '1994',\n",
       " '2002',\n",
       " '1991',\n",
       " '1985',\n",
       " '1998',\n",
       " '1936',\n",
       " '2000',\n",
       " '1960',\n",
       " '2006',\n",
       " '1931',\n",
       " '2011',\n",
       " '2014',\n",
       " '1988',\n",
       " '2006',\n",
       " '1968',\n",
       " '1942',\n",
       " '1988',\n",
       " '1954',\n",
       " '1979',\n",
       " '1979',\n",
       " '2000',\n",
       " '1940',\n",
       " '1981',\n",
       " '2012',\n",
       " '2006',\n",
       " '2020',\n",
       " '1957',\n",
       " '2019',\n",
       " '2008',\n",
       " '1980',\n",
       " '2018',\n",
       " '1950',\n",
       " '1957',\n",
       " '2003',\n",
       " '2018',\n",
       " '1997',\n",
       " '1964',\n",
       " '2012',\n",
       " '1984',\n",
       " '2016',\n",
       " '1986',\n",
       " '2017',\n",
       " '2019',\n",
       " '2018',\n",
       " '1999',\n",
       " '1995',\n",
       " '1963',\n",
       " '1981',\n",
       " '1995',\n",
       " '2009',\n",
       " '1984',\n",
       " '2009',\n",
       " '1997',\n",
       " '1983',\n",
       " '2007',\n",
       " '1992',\n",
       " '1968',\n",
       " '2000',\n",
       " '2012',\n",
       " '1958',\n",
       " '1931',\n",
       " '2004',\n",
       " '1941',\n",
       " '2016',\n",
       " '1952',\n",
       " '1921',\n",
       " '1948',\n",
       " '1987',\n",
       " '1985',\n",
       " '2000',\n",
       " '1952',\n",
       " '1959',\n",
       " '1971',\n",
       " '1983',\n",
       " '2019',\n",
       " '1976',\n",
       " '2010',\n",
       " '2011',\n",
       " '2010',\n",
       " '1962',\n",
       " '1973',\n",
       " '2001',\n",
       " '1927',\n",
       " '1960',\n",
       " '1965',\n",
       " '1944',\n",
       " '1962',\n",
       " '2009',\n",
       " '1989',\n",
       " '1995',\n",
       " '1997',\n",
       " '2018',\n",
       " '1988',\n",
       " '2005',\n",
       " '1975',\n",
       " '1961',\n",
       " '1950',\n",
       " '2004',\n",
       " '1997',\n",
       " '1985',\n",
       " '1992',\n",
       " '1959',\n",
       " '2004',\n",
       " '2021',\n",
       " '1950',\n",
       " '1995',\n",
       " '2001',\n",
       " '2013',\n",
       " '1963',\n",
       " '2006',\n",
       " '2007',\n",
       " '2009',\n",
       " '1998',\n",
       " '1961',\n",
       " '1980',\n",
       " '1988',\n",
       " '1948',\n",
       " '1954',\n",
       " '2010',\n",
       " '2017',\n",
       " '1974',\n",
       " '1925',\n",
       " '2005',\n",
       " '2007',\n",
       " '2005',\n",
       " '2015',\n",
       " '1982',\n",
       " '1980',\n",
       " '1957',\n",
       " '2011',\n",
       " '1999',\n",
       " '2019',\n",
       " '1993',\n",
       " '1996',\n",
       " '1998',\n",
       " '1939',\n",
       " '2003',\n",
       " '1979',\n",
       " '1957',\n",
       " '2003',\n",
       " '2003',\n",
       " '1982',\n",
       " '1957',\n",
       " '1996',\n",
       " '2014',\n",
       " '2015',\n",
       " '1953',\n",
       " '1949',\n",
       " '2008',\n",
       " '1954',\n",
       " '1978',\n",
       " '1993',\n",
       " '2009',\n",
       " '1995',\n",
       " '2014',\n",
       " '2002',\n",
       " '2014',\n",
       " '2016',\n",
       " '2013',\n",
       " '1966',\n",
       " '2018',\n",
       " '1924',\n",
       " '1998',\n",
       " '1975',\n",
       " '1926',\n",
       " '1942',\n",
       " '2010',\n",
       " '2019',\n",
       " '2013',\n",
       " '1996',\n",
       " '1978',\n",
       " '1939',\n",
       " '1971',\n",
       " '2015',\n",
       " '1989',\n",
       " '2004',\n",
       " '2011',\n",
       " '1986',\n",
       " '1976',\n",
       " '1959',\n",
       " '2009',\n",
       " '2016',\n",
       " '1967',\n",
       " '2017',\n",
       " '1986',\n",
       " '2007',\n",
       " '1953',\n",
       " '2013',\n",
       " '2018',\n",
       " '1995',\n",
       " '1979',\n",
       " '1959',\n",
       " '1928',\n",
       " '2015',\n",
       " '2004',\n",
       " '2020',\n",
       " '2012',\n",
       " '2000',\n",
       " '1966',\n",
       " '2001',\n",
       " '1976',\n",
       " '1984',\n",
       " '1940',\n",
       " '1988',\n",
       " '2004',\n",
       " '2000',\n",
       " '2006',\n",
       " '1955',\n",
       " '1984',\n",
       " '2013',\n",
       " '2019',\n",
       " '1934',\n",
       " '1997',\n",
       " '2016',\n",
       " '2015',\n",
       " '2013',\n",
       " '2016']"
      ]
     },
     "execution_count": 11,
     "metadata": {},
     "output_type": "execute_result"
    }
   ],
   "source": [
    "Year_of_release"
   ]
  },
  {
   "cell_type": "code",
   "execution_count": 12,
   "metadata": {
    "ExecuteTime": {
     "end_time": "2021-02-06T08:11:11.091664Z",
     "start_time": "2021-02-06T08:11:10.934075Z"
    }
   },
   "outputs": [
    {
     "data": {
      "text/html": [
       "<div>\n",
       "<style scoped>\n",
       "    .dataframe tbody tr th:only-of-type {\n",
       "        vertical-align: middle;\n",
       "    }\n",
       "\n",
       "    .dataframe tbody tr th {\n",
       "        vertical-align: top;\n",
       "    }\n",
       "\n",
       "    .dataframe thead th {\n",
       "        text-align: right;\n",
       "    }\n",
       "</style>\n",
       "<table border=\"1\" class=\"dataframe\">\n",
       "  <thead>\n",
       "    <tr style=\"text-align: right;\">\n",
       "      <th></th>\n",
       "      <th>Name</th>\n",
       "      <th>IMDB_rating</th>\n",
       "      <th>Year_of_release</th>\n",
       "    </tr>\n",
       "  </thead>\n",
       "  <tbody>\n",
       "    <tr>\n",
       "      <th>0</th>\n",
       "      <td>The Shawshank Redemption</td>\n",
       "      <td>9.2</td>\n",
       "      <td>1994</td>\n",
       "    </tr>\n",
       "    <tr>\n",
       "      <th>1</th>\n",
       "      <td>The Godfather</td>\n",
       "      <td>9.1</td>\n",
       "      <td>1972</td>\n",
       "    </tr>\n",
       "    <tr>\n",
       "      <th>2</th>\n",
       "      <td>The Godfather: Part II</td>\n",
       "      <td>9.0</td>\n",
       "      <td>1974</td>\n",
       "    </tr>\n",
       "    <tr>\n",
       "      <th>3</th>\n",
       "      <td>The Dark Knight</td>\n",
       "      <td>9.0</td>\n",
       "      <td>2008</td>\n",
       "    </tr>\n",
       "    <tr>\n",
       "      <th>4</th>\n",
       "      <td>12 Angry Men</td>\n",
       "      <td>8.9</td>\n",
       "      <td>1957</td>\n",
       "    </tr>\n",
       "    <tr>\n",
       "      <th>...</th>\n",
       "      <td>...</td>\n",
       "      <td>...</td>\n",
       "      <td>...</td>\n",
       "    </tr>\n",
       "    <tr>\n",
       "      <th>95</th>\n",
       "      <td>Citizen Kane</td>\n",
       "      <td>8.3</td>\n",
       "      <td>1941</td>\n",
       "    </tr>\n",
       "    <tr>\n",
       "      <th>96</th>\n",
       "      <td>Dangal</td>\n",
       "      <td>8.3</td>\n",
       "      <td>2016</td>\n",
       "    </tr>\n",
       "    <tr>\n",
       "      <th>97</th>\n",
       "      <td>Singin' in the Rain</td>\n",
       "      <td>8.2</td>\n",
       "      <td>1952</td>\n",
       "    </tr>\n",
       "    <tr>\n",
       "      <th>98</th>\n",
       "      <td>The Kid</td>\n",
       "      <td>8.2</td>\n",
       "      <td>1921</td>\n",
       "    </tr>\n",
       "    <tr>\n",
       "      <th>99</th>\n",
       "      <td>Ladri di biciclette</td>\n",
       "      <td>8.2</td>\n",
       "      <td>1948</td>\n",
       "    </tr>\n",
       "  </tbody>\n",
       "</table>\n",
       "<p>100 rows × 3 columns</p>\n",
       "</div>"
      ],
      "text/plain": [
       "                        Name IMDB_rating Year_of_release\n",
       "0   The Shawshank Redemption         9.2            1994\n",
       "1              The Godfather         9.1            1972\n",
       "2     The Godfather: Part II         9.0            1974\n",
       "3            The Dark Knight         9.0            2008\n",
       "4               12 Angry Men         8.9            1957\n",
       "..                       ...         ...             ...\n",
       "95              Citizen Kane         8.3            1941\n",
       "96                    Dangal         8.3            2016\n",
       "97       Singin' in the Rain         8.2            1952\n",
       "98                   The Kid         8.2            1921\n",
       "99       Ladri di biciclette         8.2            1948\n",
       "\n",
       "[100 rows x 3 columns]"
      ]
     },
     "execution_count": 12,
     "metadata": {},
     "output_type": "execute_result"
    }
   ],
   "source": [
    "Top_100_Movies=pd.DataFrame({})\n",
    "Top_100_Movies['Name']=Name[0:100]\n",
    "Top_100_Movies['IMDB_rating']=IMDB_rating[0:100]\n",
    "Top_100_Movies['Year_of_release']=Year_of_release[0:100]\n",
    "\n",
    "Top_100_Movies"
   ]
  },
  {
   "cell_type": "code",
   "execution_count": 13,
   "metadata": {
    "ExecuteTime": {
     "end_time": "2021-02-06T08:11:12.249020Z",
     "start_time": "2021-02-06T08:11:12.120085Z"
    }
   },
   "outputs": [],
   "source": [
    "Top_100_Movies.to_csv('IMDB_Top_100_Movies_List.csv') "
   ]
  },
  {
   "cell_type": "markdown",
   "metadata": {},
   "source": [
    "# 3. Write a python program to display IMDB’s Top rated 100 Indian movies’ data (i.e. Name, IMDB rating, Year of release) and save it in form of a CSV file. \n"
   ]
  },
  {
   "cell_type": "code",
   "execution_count": 14,
   "metadata": {
    "ExecuteTime": {
     "end_time": "2021-02-06T08:11:14.185577Z",
     "start_time": "2021-02-06T08:11:14.181575Z"
    }
   },
   "outputs": [],
   "source": [
    "Name=[]\n",
    "IMDB_rating=[]\n",
    "Year_of_release=[]"
   ]
  },
  {
   "cell_type": "code",
   "execution_count": 15,
   "metadata": {
    "ExecuteTime": {
     "end_time": "2021-02-06T08:11:15.146985Z",
     "start_time": "2021-02-06T08:11:15.132763Z"
    }
   },
   "outputs": [],
   "source": [
    "def Top_100_Indian_Movies(url):\n",
    "    response=requests.get(url)\n",
    "    soup=BeautifulSoup(response.content,'html.parser')\n",
    "    movie_name=soup.select('td.titleColumn a')\n",
    "    for i in movie_name:\n",
    "        Name.append(i.get_text())\n",
    "    movie_year=soup.find_all('span',class_='secondaryInfo')\n",
    "    for i in movie_year:\n",
    "        Year_of_release.append(i.get_text().replace('\\n','').replace('(','').replace(')',''))\n",
    "    rating=soup.find_all('td',class_='ratingColumn imdbRating')\n",
    "    for i in rating:\n",
    "        IMDB_rating.append(i.get_text().replace('\\n',''))"
   ]
  },
  {
   "cell_type": "code",
   "execution_count": 16,
   "metadata": {
    "ExecuteTime": {
     "end_time": "2021-02-06T08:11:19.296744Z",
     "start_time": "2021-02-06T08:11:16.244696Z"
    }
   },
   "outputs": [],
   "source": [
    "Top_100_Indian_Movies('https://www.imdb.com/india/top-rated-indian-movies/')"
   ]
  },
  {
   "cell_type": "code",
   "execution_count": 17,
   "metadata": {
    "ExecuteTime": {
     "end_time": "2021-02-06T08:11:19.344266Z",
     "start_time": "2021-02-06T08:11:19.317260Z"
    }
   },
   "outputs": [
    {
     "data": {
      "text/html": [
       "<div>\n",
       "<style scoped>\n",
       "    .dataframe tbody tr th:only-of-type {\n",
       "        vertical-align: middle;\n",
       "    }\n",
       "\n",
       "    .dataframe tbody tr th {\n",
       "        vertical-align: top;\n",
       "    }\n",
       "\n",
       "    .dataframe thead th {\n",
       "        text-align: right;\n",
       "    }\n",
       "</style>\n",
       "<table border=\"1\" class=\"dataframe\">\n",
       "  <thead>\n",
       "    <tr style=\"text-align: right;\">\n",
       "      <th></th>\n",
       "      <th>Name</th>\n",
       "      <th>IMDB_rating</th>\n",
       "      <th>Year_of_release</th>\n",
       "    </tr>\n",
       "  </thead>\n",
       "  <tbody>\n",
       "    <tr>\n",
       "      <th>0</th>\n",
       "      <td>Pather Panchali</td>\n",
       "      <td>8.5</td>\n",
       "      <td>1955</td>\n",
       "    </tr>\n",
       "    <tr>\n",
       "      <th>1</th>\n",
       "      <td>Gol Maal</td>\n",
       "      <td>8.5</td>\n",
       "      <td>1979</td>\n",
       "    </tr>\n",
       "    <tr>\n",
       "      <th>2</th>\n",
       "      <td>Nayakan</td>\n",
       "      <td>8.5</td>\n",
       "      <td>1987</td>\n",
       "    </tr>\n",
       "    <tr>\n",
       "      <th>3</th>\n",
       "      <td>Anbe Sivam</td>\n",
       "      <td>8.5</td>\n",
       "      <td>2003</td>\n",
       "    </tr>\n",
       "    <tr>\n",
       "      <th>4</th>\n",
       "      <td>Apur Sansar</td>\n",
       "      <td>8.5</td>\n",
       "      <td>1959</td>\n",
       "    </tr>\n",
       "    <tr>\n",
       "      <th>...</th>\n",
       "      <td>...</td>\n",
       "      <td>...</td>\n",
       "      <td>...</td>\n",
       "    </tr>\n",
       "    <tr>\n",
       "      <th>95</th>\n",
       "      <td>Barfi!</td>\n",
       "      <td>8.0</td>\n",
       "      <td>2012</td>\n",
       "    </tr>\n",
       "    <tr>\n",
       "      <th>96</th>\n",
       "      <td>The Legend of Bhagat Singh</td>\n",
       "      <td>8.0</td>\n",
       "      <td>2002</td>\n",
       "    </tr>\n",
       "    <tr>\n",
       "      <th>97</th>\n",
       "      <td>Bommarillu</td>\n",
       "      <td>8.0</td>\n",
       "      <td>2006</td>\n",
       "    </tr>\n",
       "    <tr>\n",
       "      <th>98</th>\n",
       "      <td>Bombay</td>\n",
       "      <td>8.0</td>\n",
       "      <td>1995</td>\n",
       "    </tr>\n",
       "    <tr>\n",
       "      <th>99</th>\n",
       "      <td>Maqbool</td>\n",
       "      <td>8.0</td>\n",
       "      <td>2003</td>\n",
       "    </tr>\n",
       "  </tbody>\n",
       "</table>\n",
       "<p>100 rows × 3 columns</p>\n",
       "</div>"
      ],
      "text/plain": [
       "                          Name IMDB_rating Year_of_release\n",
       "0              Pather Panchali         8.5            1955\n",
       "1                     Gol Maal         8.5            1979\n",
       "2                      Nayakan         8.5            1987\n",
       "3                   Anbe Sivam         8.5            2003\n",
       "4                  Apur Sansar         8.5            1959\n",
       "..                         ...         ...             ...\n",
       "95                      Barfi!         8.0            2012\n",
       "96  The Legend of Bhagat Singh         8.0            2002\n",
       "97                  Bommarillu         8.0            2006\n",
       "98                      Bombay         8.0            1995\n",
       "99                     Maqbool         8.0            2003\n",
       "\n",
       "[100 rows x 3 columns]"
      ]
     },
     "execution_count": 17,
     "metadata": {},
     "output_type": "execute_result"
    }
   ],
   "source": [
    "Top_100_Indian_Movies=pd.DataFrame({})\n",
    "Top_100_Indian_Movies['Name']=Name[0:100]\n",
    "Top_100_Indian_Movies['IMDB_rating']=IMDB_rating[0:100]\n",
    "Top_100_Indian_Movies['Year_of_release']=Year_of_release[0:100]\n",
    "\n",
    "Top_100_Indian_Movies"
   ]
  },
  {
   "cell_type": "code",
   "execution_count": 18,
   "metadata": {
    "ExecuteTime": {
     "end_time": "2021-02-06T08:11:20.028526Z",
     "start_time": "2021-02-06T08:11:20.019526Z"
    }
   },
   "outputs": [],
   "source": [
    "Top_100_Indian_Movies.to_csv('IMDB_Top_100_Indian_Movies_List.csv') "
   ]
  },
  {
   "cell_type": "markdown",
   "metadata": {},
   "source": [
    "# 4. Write a python program to scrap book name, author name, genre and book review of any 5 books from ‘www.bookpage.com’\n"
   ]
  },
  {
   "cell_type": "code",
   "execution_count": 19,
   "metadata": {
    "ExecuteTime": {
     "end_time": "2021-02-06T08:11:25.726610Z",
     "start_time": "2021-02-06T08:11:25.722596Z"
    }
   },
   "outputs": [],
   "source": [
    "Name=[]\n",
    "Author=[]\n",
    "Genre=[]\n",
    "Review=[]"
   ]
  },
  {
   "cell_type": "code",
   "execution_count": 20,
   "metadata": {
    "ExecuteTime": {
     "end_time": "2021-02-06T08:11:26.609659Z",
     "start_time": "2021-02-06T08:11:26.599655Z"
    }
   },
   "outputs": [],
   "source": [
    "def Books(url):\n",
    "    response=requests.get(url)\n",
    "    soup=BeautifulSoup(response.content,'html.parser')\n",
    "    book_name=soup.find_all('h4',class_='italic')\n",
    "    for i in book_name:\n",
    "        Name.append(i.get_text().replace('\\n','').replace('★','').strip())\n",
    "    author_name=soup.find_all('p',class_='sans bold')\n",
    "    for i in author_name:\n",
    "        Author.append(i.get_text().replace('\\n',''))\n",
    "    genre_name=soup.find_all('p',class_='genre-links hidden-phone')\n",
    "    for i in genre_name:\n",
    "        Genre.append(i.get_text().replace('\\n',''))\n",
    "    reviews=soup.find_all('p','excerpt')\n",
    "    for i in reviews:\n",
    "        Review.append(i.get_text().replace('\\n',''))"
   ]
  },
  {
   "cell_type": "code",
   "execution_count": 21,
   "metadata": {
    "ExecuteTime": {
     "end_time": "2021-02-06T08:11:30.390092Z",
     "start_time": "2021-02-06T08:11:28.068011Z"
    }
   },
   "outputs": [],
   "source": [
    "Books('https://bookpage.com/reviews?book_genre=nonfiction&page=1')"
   ]
  },
  {
   "cell_type": "code",
   "execution_count": 22,
   "metadata": {
    "ExecuteTime": {
     "end_time": "2021-02-06T08:11:31.086019Z",
     "start_time": "2021-02-06T08:11:31.070018Z"
    }
   },
   "outputs": [
    {
     "data": {
      "text/html": [
       "<div>\n",
       "<style scoped>\n",
       "    .dataframe tbody tr th:only-of-type {\n",
       "        vertical-align: middle;\n",
       "    }\n",
       "\n",
       "    .dataframe tbody tr th {\n",
       "        vertical-align: top;\n",
       "    }\n",
       "\n",
       "    .dataframe thead th {\n",
       "        text-align: right;\n",
       "    }\n",
       "</style>\n",
       "<table border=\"1\" class=\"dataframe\">\n",
       "  <thead>\n",
       "    <tr style=\"text-align: right;\">\n",
       "      <th></th>\n",
       "      <th>Name</th>\n",
       "      <th>Author</th>\n",
       "      <th>Genre</th>\n",
       "      <th>Review</th>\n",
       "    </tr>\n",
       "  </thead>\n",
       "  <tbody>\n",
       "    <tr>\n",
       "      <th>0</th>\n",
       "      <td>Until Justice Be Done</td>\n",
       "      <td>Kate Masur</td>\n",
       "      <td>Nonfiction / History / American History</td>\n",
       "      <td>Masur’s scholarly but accessible history demon...</td>\n",
       "    </tr>\n",
       "    <tr>\n",
       "      <th>1</th>\n",
       "      <td>Confident Women</td>\n",
       "      <td>Tori Telfer</td>\n",
       "      <td>Nonfiction / True Crime / Women's History</td>\n",
       "      <td>With Tori Telfer at the wheel, reading these t...</td>\n",
       "    </tr>\n",
       "    <tr>\n",
       "      <th>2</th>\n",
       "      <td>New Yorkers</td>\n",
       "      <td>Craig Taylor</td>\n",
       "      <td>Nonfiction / Culture / History</td>\n",
       "      <td>In January 2014, Canadian writer Craig Taylor ...</td>\n",
       "    </tr>\n",
       "    <tr>\n",
       "      <th>3</th>\n",
       "      <td>Just as I Am</td>\n",
       "      <td>Cicely Tyson, Robin Miles</td>\n",
       "      <td>Audio / Nonfiction / Biography &amp; Memoir</td>\n",
       "      <td>Narrator Robin Miles bringing the same warmth ...</td>\n",
       "    </tr>\n",
       "    <tr>\n",
       "      <th>4</th>\n",
       "      <td>Flight of the Diamond Smugglers</td>\n",
       "      <td>Matthew Gavin Frank</td>\n",
       "      <td>Nonfiction / Memoir / Animals</td>\n",
       "      <td>Matthew Gavin Frank's Flight of the Diamond Sm...</td>\n",
       "    </tr>\n",
       "  </tbody>\n",
       "</table>\n",
       "</div>"
      ],
      "text/plain": [
       "                              Name                     Author  \\\n",
       "0            Until Justice Be Done                 Kate Masur   \n",
       "1                  Confident Women                Tori Telfer   \n",
       "2                      New Yorkers               Craig Taylor   \n",
       "3                     Just as I Am  Cicely Tyson, Robin Miles   \n",
       "4  Flight of the Diamond Smugglers        Matthew Gavin Frank   \n",
       "\n",
       "                                       Genre  \\\n",
       "0    Nonfiction / History / American History   \n",
       "1  Nonfiction / True Crime / Women's History   \n",
       "2             Nonfiction / Culture / History   \n",
       "3    Audio / Nonfiction / Biography & Memoir   \n",
       "4              Nonfiction / Memoir / Animals   \n",
       "\n",
       "                                              Review  \n",
       "0  Masur’s scholarly but accessible history demon...  \n",
       "1  With Tori Telfer at the wheel, reading these t...  \n",
       "2  In January 2014, Canadian writer Craig Taylor ...  \n",
       "3  Narrator Robin Miles bringing the same warmth ...  \n",
       "4  Matthew Gavin Frank's Flight of the Diamond Sm...  "
      ]
     },
     "execution_count": 22,
     "metadata": {},
     "output_type": "execute_result"
    }
   ],
   "source": [
    "Books=pd.DataFrame({})\n",
    "\n",
    "Books['Name']=Name[0:5]\n",
    "Books['Author']=Author[0:5]\n",
    "Books['Genre']=Genre[0:5]\n",
    "Books['Review']=Review[0:5]\n",
    "Books"
   ]
  },
  {
   "cell_type": "markdown",
   "metadata": {},
   "source": [
    "# 5. Write a python program to scrape cricket rankings from ‘www.icc-cricket.com’. You have to scrape:"
   ]
  },
  {
   "cell_type": "markdown",
   "metadata": {},
   "source": [
    "i) Top 10 ODI teams in men’s cricket along with the records for matches, points and rating. "
   ]
  },
  {
   "cell_type": "code",
   "execution_count": 23,
   "metadata": {
    "ExecuteTime": {
     "end_time": "2021-02-06T08:11:34.684286Z",
     "start_time": "2021-02-06T08:11:34.119203Z"
    }
   },
   "outputs": [],
   "source": [
    "def Top_10_ODI_Mens_Team(url):\n",
    "    page=requests.get(url)\n",
    "    soup=BeautifulSoup(page.content,'html.parser')\n",
    "    Teams=[]\n",
    "    teams=soup.find_all('span','u-hide-phablet')\n",
    "    for i in teams:\n",
    "        Teams.append(i.get_text().replace('\\n',''))\n",
    "    Matches=[]\n",
    "    match0=soup.find('td',class_='rankings-block__banner--matches')\n",
    "    Matches.append(match0.get_text())\n",
    "    match=soup.find_all('td',class_='table-body__cell u-center-text')\n",
    "    for i in match:\n",
    "        Matches.append(i.get_text().replace('\\n',''))\n",
    "    Points=[]\n",
    "    point0=soup.find('td',class_='rankings-block__banner--points')\n",
    "    Points.append(point0.get_text())\n",
    "    point=soup.find_all('td',class_='table-body__cell u-center-text')\n",
    "    for i in point:\n",
    "        Points.append(i.get_text().replace('\\n',''))\n",
    "    Ratings=[]\n",
    "    rating0=soup.find('td',class_='rankings-block__banner--rating u-text-right')\n",
    "    Ratings.append(rating0.get_text().replace('\\n','').strip())\n",
    "    rating=soup.find_all('td',class_='table-body__cell u-text-right rating')\n",
    "    for i in rating:\n",
    "        Ratings.append(i.get_text().replace('\\n',''))\n",
    "    return Teams, Matches, Points, Ratings\n",
    "\n",
    "Teams, Matches, Points, Rating = Top_10_ODI_Mens_Team(\"https://www.icc-cricket.com/rankings/mens/team-rankings/odi?fbclid=IwAR3CaDhnGrrfRNKT4juj6ptjwFGrqsGt866xQ0U3xgHKm1d2zA2Bm4shO70\")\n"
   ]
  },
  {
   "cell_type": "code",
   "execution_count": null,
   "metadata": {},
   "outputs": [],
   "source": []
  },
  {
   "cell_type": "code",
   "execution_count": 24,
   "metadata": {
    "ExecuteTime": {
     "end_time": "2021-02-06T08:11:37.363925Z",
     "start_time": "2021-02-06T08:11:37.344923Z"
    }
   },
   "outputs": [
    {
     "data": {
      "text/html": [
       "<div>\n",
       "<style scoped>\n",
       "    .dataframe tbody tr th:only-of-type {\n",
       "        vertical-align: middle;\n",
       "    }\n",
       "\n",
       "    .dataframe tbody tr th {\n",
       "        vertical-align: top;\n",
       "    }\n",
       "\n",
       "    .dataframe thead th {\n",
       "        text-align: right;\n",
       "    }\n",
       "</style>\n",
       "<table border=\"1\" class=\"dataframe\">\n",
       "  <thead>\n",
       "    <tr style=\"text-align: right;\">\n",
       "      <th></th>\n",
       "      <th>Teams</th>\n",
       "      <th>Matches</th>\n",
       "      <th>Points</th>\n",
       "      <th>Rating</th>\n",
       "    </tr>\n",
       "  </thead>\n",
       "  <tbody>\n",
       "    <tr>\n",
       "      <th>0</th>\n",
       "      <td>England</td>\n",
       "      <td>45</td>\n",
       "      <td>5,472</td>\n",
       "      <td>122</td>\n",
       "    </tr>\n",
       "    <tr>\n",
       "      <th>1</th>\n",
       "      <td>India</td>\n",
       "      <td>53</td>\n",
       "      <td>53</td>\n",
       "      <td>118</td>\n",
       "    </tr>\n",
       "    <tr>\n",
       "      <th>2</th>\n",
       "      <td>New Zealand</td>\n",
       "      <td>6,275</td>\n",
       "      <td>6,275</td>\n",
       "      <td>118</td>\n",
       "    </tr>\n",
       "    <tr>\n",
       "      <th>3</th>\n",
       "      <td>Australia</td>\n",
       "      <td>34</td>\n",
       "      <td>34</td>\n",
       "      <td>111</td>\n",
       "    </tr>\n",
       "    <tr>\n",
       "      <th>4</th>\n",
       "      <td>South Africa</td>\n",
       "      <td>3,997</td>\n",
       "      <td>3,997</td>\n",
       "      <td>108</td>\n",
       "    </tr>\n",
       "    <tr>\n",
       "      <th>5</th>\n",
       "      <td>Pakistan</td>\n",
       "      <td>39</td>\n",
       "      <td>39</td>\n",
       "      <td>100</td>\n",
       "    </tr>\n",
       "    <tr>\n",
       "      <th>6</th>\n",
       "      <td>Bangladesh</td>\n",
       "      <td>4,344</td>\n",
       "      <td>4,344</td>\n",
       "      <td>90</td>\n",
       "    </tr>\n",
       "    <tr>\n",
       "      <th>7</th>\n",
       "      <td>Sri Lanka</td>\n",
       "      <td>31</td>\n",
       "      <td>31</td>\n",
       "      <td>80</td>\n",
       "    </tr>\n",
       "    <tr>\n",
       "      <th>8</th>\n",
       "      <td>West Indies</td>\n",
       "      <td>3,345</td>\n",
       "      <td>3,345</td>\n",
       "      <td>78</td>\n",
       "    </tr>\n",
       "    <tr>\n",
       "      <th>9</th>\n",
       "      <td>Afghanistan</td>\n",
       "      <td>35</td>\n",
       "      <td>35</td>\n",
       "      <td>59</td>\n",
       "    </tr>\n",
       "  </tbody>\n",
       "</table>\n",
       "</div>"
      ],
      "text/plain": [
       "          Teams Matches Points Rating\n",
       "0       England      45  5,472    122\n",
       "1         India      53     53    118\n",
       "2   New Zealand   6,275  6,275    118\n",
       "3     Australia      34     34    111\n",
       "4  South Africa   3,997  3,997    108\n",
       "5      Pakistan      39     39    100\n",
       "6    Bangladesh   4,344  4,344     90\n",
       "7     Sri Lanka      31     31     80\n",
       "8   West Indies   3,345  3,345     78\n",
       "9   Afghanistan      35     35     59"
      ]
     },
     "execution_count": 24,
     "metadata": {},
     "output_type": "execute_result"
    }
   ],
   "source": [
    "Top_10_ODI_Mens_Team=pd.DataFrame({})\n",
    "\n",
    "Top_10_ODI_Mens_Team['Teams']=Teams[0:10]\n",
    "Top_10_ODI_Mens_Team['Matches']=Matches[0:10]\n",
    "Top_10_ODI_Mens_Team['Points']=Points[0:10]\n",
    "Top_10_ODI_Mens_Team['Rating']=Rating[0:10]\n",
    "\n",
    "Top_10_ODI_Mens_Team"
   ]
  },
  {
   "cell_type": "markdown",
   "metadata": {},
   "source": [
    "ii) Top 10 women’s ODI players along with the records of their team and rating. "
   ]
  },
  {
   "cell_type": "code",
   "execution_count": 19,
   "metadata": {
    "ExecuteTime": {
     "end_time": "2021-02-06T08:23:19.100608Z",
     "start_time": "2021-02-06T08:23:19.089594Z"
    }
   },
   "outputs": [],
   "source": [
    "def Top_10_ODI_womens_player(url):\n",
    "    page=requests.get(url)\n",
    "    soup=BeautifulSoup(page.content,'html.parser')\n",
    "    Players=[]\n",
    "    player0=soup.find(\"div\",class_=\"rankings-block__banner--name-large\")\n",
    "    Players.append(player0.get_text())\n",
    "    players=soup.find_all('td',class_='table-body__cell rankings-table__name name')\n",
    "    for i in players:\n",
    "        Players.append(i.get_text().replace('\\n',''))\n",
    "    Teams=[]\n",
    "    teams0=soup.find('div',class_='rankings-block__banner--nationality')\n",
    "    Teams.append(teams0.get_text().replace('\\n','').strip())\n",
    "    teams=soup.find_all('span',class_='table-body__logo-text')\n",
    "    for i in teams:\n",
    "        Teams.append(i.get_text())\n",
    "    Ratings=[]\n",
    "    rating0=soup.find('td',class_='u-text-left')\n",
    "    Ratings.append(rating0.get_text().replace('\\n','').strip())\n",
    "    rating=soup.find_all('td',class_='table-body__cell rating')\n",
    "    for i in rating:\n",
    "        Ratings.append(i.get_text())\n",
    "    return Players,Teams,Ratings\n",
    "                     "
   ]
  },
  {
   "cell_type": "code",
   "execution_count": 20,
   "metadata": {
    "ExecuteTime": {
     "end_time": "2021-02-06T08:23:20.396036Z",
     "start_time": "2021-02-06T08:23:19.725859Z"
    }
   },
   "outputs": [],
   "source": [
    "Players,Teams,Ratings= Top_10_ODI_womens_player('https://www.icc-cricket.com/rankings/womens/player-rankings/odi/batting')"
   ]
  },
  {
   "cell_type": "code",
   "execution_count": 21,
   "metadata": {
    "ExecuteTime": {
     "end_time": "2021-02-06T10:44:20.955861Z",
     "start_time": "2021-02-06T10:44:20.931858Z"
    }
   },
   "outputs": [
    {
     "data": {
      "text/html": [
       "<div>\n",
       "<style scoped>\n",
       "    .dataframe tbody tr th:only-of-type {\n",
       "        vertical-align: middle;\n",
       "    }\n",
       "\n",
       "    .dataframe tbody tr th {\n",
       "        vertical-align: top;\n",
       "    }\n",
       "\n",
       "    .dataframe thead th {\n",
       "        text-align: right;\n",
       "    }\n",
       "</style>\n",
       "<table border=\"1\" class=\"dataframe\">\n",
       "  <thead>\n",
       "    <tr style=\"text-align: right;\">\n",
       "      <th></th>\n",
       "      <th>Players</th>\n",
       "      <th>Teams</th>\n",
       "      <th>Ratings</th>\n",
       "    </tr>\n",
       "  </thead>\n",
       "  <tbody>\n",
       "    <tr>\n",
       "      <th>0</th>\n",
       "      <td>Tammy Beaumont</td>\n",
       "      <td>ENG</td>\n",
       "      <td>765</td>\n",
       "    </tr>\n",
       "    <tr>\n",
       "      <th>1</th>\n",
       "      <td>Lizelle Lee</td>\n",
       "      <td>SA</td>\n",
       "      <td>758</td>\n",
       "    </tr>\n",
       "    <tr>\n",
       "      <th>2</th>\n",
       "      <td>Meg Lanning</td>\n",
       "      <td>AUS</td>\n",
       "      <td>749</td>\n",
       "    </tr>\n",
       "    <tr>\n",
       "      <th>3</th>\n",
       "      <td>Stafanie Taylor</td>\n",
       "      <td>WI</td>\n",
       "      <td>746</td>\n",
       "    </tr>\n",
       "    <tr>\n",
       "      <th>4</th>\n",
       "      <td>Alyssa Healy</td>\n",
       "      <td>AUS</td>\n",
       "      <td>741</td>\n",
       "    </tr>\n",
       "    <tr>\n",
       "      <th>5</th>\n",
       "      <td>Amy Satterthwaite</td>\n",
       "      <td>NZ</td>\n",
       "      <td>740</td>\n",
       "    </tr>\n",
       "    <tr>\n",
       "      <th>6</th>\n",
       "      <td>Smriti Mandhana</td>\n",
       "      <td>IND</td>\n",
       "      <td>710</td>\n",
       "    </tr>\n",
       "    <tr>\n",
       "      <th>7</th>\n",
       "      <td>Mithali Raj</td>\n",
       "      <td>IND</td>\n",
       "      <td>709</td>\n",
       "    </tr>\n",
       "    <tr>\n",
       "      <th>8</th>\n",
       "      <td>Ellyse Perry</td>\n",
       "      <td>AUS</td>\n",
       "      <td>691</td>\n",
       "    </tr>\n",
       "    <tr>\n",
       "      <th>9</th>\n",
       "      <td>Natalie Sciver</td>\n",
       "      <td>ENG</td>\n",
       "      <td>685</td>\n",
       "    </tr>\n",
       "  </tbody>\n",
       "</table>\n",
       "</div>"
      ],
      "text/plain": [
       "             Players Teams Ratings\n",
       "0     Tammy Beaumont   ENG     765\n",
       "1        Lizelle Lee    SA     758\n",
       "2        Meg Lanning   AUS     749\n",
       "3    Stafanie Taylor    WI     746\n",
       "4       Alyssa Healy   AUS     741\n",
       "5  Amy Satterthwaite    NZ     740\n",
       "6    Smriti Mandhana   IND     710\n",
       "7        Mithali Raj   IND     709\n",
       "8       Ellyse Perry   AUS     691\n",
       "9     Natalie Sciver   ENG     685"
      ]
     },
     "execution_count": 21,
     "metadata": {},
     "output_type": "execute_result"
    }
   ],
   "source": [
    "Top_10_ODI_womens_player=pd.DataFrame({})\n",
    "\n",
    "Top_10_ODI_womens_player['Players']=Players[0:10]\n",
    "Top_10_ODI_womens_player['Teams']=Teams[0:10]\n",
    "Top_10_ODI_womens_player['Ratings']=Ratings[0:10]\n",
    "Top_10_ODI_womens_player"
   ]
  },
  {
   "cell_type": "markdown",
   "metadata": {},
   "source": [
    "# 7. Write a python program to scrape details of all the mobile phones under Rs. 20,000 listed on Amazon.in. The scraped data should include Product Name, Price, Image URL and Average Rating."
   ]
  },
  {
   "cell_type": "code",
   "execution_count": null,
   "metadata": {},
   "outputs": [],
   "source": [
    "???"
   ]
  },
  {
   "cell_type": "code",
   "execution_count": null,
   "metadata": {},
   "outputs": [],
   "source": []
  },
  {
   "cell_type": "code",
   "execution_count": null,
   "metadata": {},
   "outputs": [],
   "source": []
  },
  {
   "cell_type": "markdown",
   "metadata": {},
   "source": [
    "# 8. Write a python program to extract information about the local weather from the National Weather Service website of USA, https://www.weather.gov/ for the city, San Francisco. You need to extract data about 7 day extended forecast display for the city. The data should include period, short description, temperature and description"
   ]
  },
  {
   "cell_type": "code",
   "execution_count": 28,
   "metadata": {
    "ExecuteTime": {
     "end_time": "2021-02-06T10:46:18.124071Z",
     "start_time": "2021-02-06T10:46:15.506687Z"
    }
   },
   "outputs": [],
   "source": [
    "Period=[]\n",
    "Short_description=[]\n",
    "Temperature=[]\n",
    "Description=[]\n",
    "\n",
    "def USA_extended_forecast(url):\n",
    "    page=requests.get(url)\n",
    "    soup=BeautifulSoup(page.content,'html.parser')\n",
    "    period=soup.find_all('p',class_='period-name')\n",
    "    for i in period:\n",
    "        Period.append(i.get_text().replace('\\n',''))\n",
    "    short_description=soup.find_all('p',class_='short-desc')\n",
    "    for i in short_description:\n",
    "        Short_description.append(i.get_text().replace('\\n','').strip())\n",
    "    temperature=soup.find_all(\"p\",{\"class\": [\"temp temp-high\", \"temp temp-low\"]})\n",
    "    for i in temperature:\n",
    "        Temperature.append(i.get_text().replace('\\n',''))\n",
    "    description=soup.find_all('div',class_='col-sm-10 forecast-text')\n",
    "    for i in description:\n",
    "        Description.append(i.get_text().replace('\\n',''))\n",
    "        \n",
    "USA_extended_forecast('https://forecast.weather.gov/MapClick.php?lat=37.777120000000025&lon=-122.41963999999996#.YB2IuegzZPY')"
   ]
  },
  {
   "cell_type": "code",
   "execution_count": 32,
   "metadata": {
    "ExecuteTime": {
     "end_time": "2021-02-06T10:46:18.224669Z",
     "start_time": "2021-02-06T10:46:18.198663Z"
    }
   },
   "outputs": [
    {
     "data": {
      "text/html": [
       "<div>\n",
       "<style scoped>\n",
       "    .dataframe tbody tr th:only-of-type {\n",
       "        vertical-align: middle;\n",
       "    }\n",
       "\n",
       "    .dataframe tbody tr th {\n",
       "        vertical-align: top;\n",
       "    }\n",
       "\n",
       "    .dataframe thead th {\n",
       "        text-align: right;\n",
       "    }\n",
       "</style>\n",
       "<table border=\"1\" class=\"dataframe\">\n",
       "  <thead>\n",
       "    <tr style=\"text-align: right;\">\n",
       "      <th></th>\n",
       "      <th>Period</th>\n",
       "      <th>Short_description</th>\n",
       "      <th>Temperature</th>\n",
       "      <th>Description</th>\n",
       "    </tr>\n",
       "  </thead>\n",
       "  <tbody>\n",
       "    <tr>\n",
       "      <th>0</th>\n",
       "      <td>Today</td>\n",
       "      <td>Sunny</td>\n",
       "      <td>High: 72 °F</td>\n",
       "      <td>Sunny, with a high near 72. North wind 7 to 10...</td>\n",
       "    </tr>\n",
       "    <tr>\n",
       "      <th>1</th>\n",
       "      <td>Tonight</td>\n",
       "      <td>Mostly Clear</td>\n",
       "      <td>Low: 47 °F</td>\n",
       "      <td>Mostly clear, with a low around 47. West north...</td>\n",
       "    </tr>\n",
       "    <tr>\n",
       "      <th>2</th>\n",
       "      <td>Saturday</td>\n",
       "      <td>Sunny</td>\n",
       "      <td>High: 74 °F</td>\n",
       "      <td>Sunny, with a high near 74. Calm wind becoming...</td>\n",
       "    </tr>\n",
       "    <tr>\n",
       "      <th>3</th>\n",
       "      <td>SaturdayNight</td>\n",
       "      <td>Mostly Clear</td>\n",
       "      <td>Low: 48 °F</td>\n",
       "      <td>Mostly clear, with a low around 48. West wind ...</td>\n",
       "    </tr>\n",
       "    <tr>\n",
       "      <th>4</th>\n",
       "      <td>Sunday</td>\n",
       "      <td>Sunny</td>\n",
       "      <td>High: 71 °F</td>\n",
       "      <td>Sunny, with a high near 71. Light west wind in...</td>\n",
       "    </tr>\n",
       "    <tr>\n",
       "      <th>5</th>\n",
       "      <td>SundayNight</td>\n",
       "      <td>Mostly Clear</td>\n",
       "      <td>Low: 48 °F</td>\n",
       "      <td>Mostly clear, with a low around 48.</td>\n",
       "    </tr>\n",
       "    <tr>\n",
       "      <th>6</th>\n",
       "      <td>Monday</td>\n",
       "      <td>Sunny</td>\n",
       "      <td>High: 65 °F</td>\n",
       "      <td>Sunny, with a high near 65.</td>\n",
       "    </tr>\n",
       "    <tr>\n",
       "      <th>7</th>\n",
       "      <td>MondayNight</td>\n",
       "      <td>Clear</td>\n",
       "      <td>Low: 48 °F</td>\n",
       "      <td>Clear, with a low around 48.</td>\n",
       "    </tr>\n",
       "    <tr>\n",
       "      <th>8</th>\n",
       "      <td>Tuesday</td>\n",
       "      <td>Sunny</td>\n",
       "      <td>High: 71 °F</td>\n",
       "      <td>Sunny, with a high near 71.</td>\n",
       "    </tr>\n",
       "  </tbody>\n",
       "</table>\n",
       "</div>"
      ],
      "text/plain": [
       "          Period Short_description  Temperature  \\\n",
       "0          Today             Sunny  High: 72 °F   \n",
       "1        Tonight      Mostly Clear   Low: 47 °F   \n",
       "2       Saturday             Sunny  High: 74 °F   \n",
       "3  SaturdayNight      Mostly Clear   Low: 48 °F   \n",
       "4         Sunday             Sunny  High: 71 °F   \n",
       "5    SundayNight      Mostly Clear   Low: 48 °F   \n",
       "6         Monday             Sunny  High: 65 °F   \n",
       "7    MondayNight             Clear   Low: 48 °F   \n",
       "8        Tuesday             Sunny  High: 71 °F   \n",
       "\n",
       "                                         Description  \n",
       "0  Sunny, with a high near 72. North wind 7 to 10...  \n",
       "1  Mostly clear, with a low around 47. West north...  \n",
       "2  Sunny, with a high near 74. Calm wind becoming...  \n",
       "3  Mostly clear, with a low around 48. West wind ...  \n",
       "4  Sunny, with a high near 71. Light west wind in...  \n",
       "5                Mostly clear, with a low around 48.  \n",
       "6                        Sunny, with a high near 65.  \n",
       "7                       Clear, with a low around 48.  \n",
       "8                        Sunny, with a high near 71.  "
      ]
     },
     "execution_count": 32,
     "metadata": {},
     "output_type": "execute_result"
    }
   ],
   "source": [
    "USA_extended_forecast=pd.DataFrame({})\n",
    "\n",
    "USA_extended_forecast['Period']=Period[0:9]\n",
    "USA_extended_forecast['Short_description']=Short_description[0:9]\n",
    "USA_extended_forecast['Temperature']=Temperature[0:9]\n",
    "USA_extended_forecast['Description']=Description[0:9]\n",
    "\n",
    "USA_extended_forecast"
   ]
  },
  {
   "cell_type": "code",
   "execution_count": null,
   "metadata": {
    "ExecuteTime": {
     "end_time": "2021-02-06T10:47:48.798463Z",
     "start_time": "2021-02-06T10:47:48.634089Z"
    }
   },
   "outputs": [],
   "source": [
    "USA_extended_forecast['Period']=Period[0:13]\n",
    "USA_extended_forecast['Short_description']=Short_description[0:13]\n",
    "USA_extended_forecast "
   ]
  },
  {
   "cell_type": "code",
   "execution_count": null,
   "metadata": {},
   "outputs": [],
   "source": []
  },
  {
   "cell_type": "code",
   "execution_count": null,
   "metadata": {},
   "outputs": [],
   "source": []
  }
 ],
 "metadata": {
  "kernelspec": {
   "display_name": "Python 3",
   "language": "python",
   "name": "python3"
  },
  "language_info": {
   "codemirror_mode": {
    "name": "ipython",
    "version": 3
   },
   "file_extension": ".py",
   "mimetype": "text/x-python",
   "name": "python",
   "nbconvert_exporter": "python",
   "pygments_lexer": "ipython3",
   "version": "3.8.5"
  },
  "varInspector": {
   "cols": {
    "lenName": 16,
    "lenType": 16,
    "lenVar": 40
   },
   "kernels_config": {
    "python": {
     "delete_cmd_postfix": "",
     "delete_cmd_prefix": "del ",
     "library": "var_list.py",
     "varRefreshCmd": "print(var_dic_list())"
    },
    "r": {
     "delete_cmd_postfix": ") ",
     "delete_cmd_prefix": "rm(",
     "library": "var_list.r",
     "varRefreshCmd": "cat(var_dic_list()) "
    }
   },
   "types_to_exclude": [
    "module",
    "function",
    "builtin_function_or_method",
    "instance",
    "_Feature"
   ],
   "window_display": false
  }
 },
 "nbformat": 4,
 "nbformat_minor": 4
}
